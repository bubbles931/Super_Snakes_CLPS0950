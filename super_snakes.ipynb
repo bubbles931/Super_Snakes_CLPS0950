{
  "nbformat": 4,
  "nbformat_minor": 0,
  "metadata": {
    "colab": {
      "provenance": [],
      "include_colab_link": true
    },
    "kernelspec": {
      "name": "python3",
      "display_name": "Python 3"
    },
    "language_info": {
      "name": "python"
    }
  },
  "cells": [
    {
      "cell_type": "markdown",
      "metadata": {
        "id": "view-in-github",
        "colab_type": "text"
      },
      "source": [
        "<a href=\"https://colab.research.google.com/github/bubbles931/Super_Snakes_CLPS0950/blob/main/super_snakes.ipynb\" target=\"_parent\"><img src=\"https://colab.research.google.com/assets/colab-badge.svg\" alt=\"Open In Colab\"/></a>"
      ]
    },
    {
      "cell_type": "code",
      "execution_count": 16,
      "metadata": {
        "id": "HXX2qtCM_qrc"
      },
      "outputs": [],
      "source": [
        "import pygame as pgame"
      ]
    },
    {
      "cell_type": "code",
      "source": [
        "def board():\n",
        "  pgame.init()\n",
        "  stage = pgame.display.set_mode((400,300))\n",
        "\n",
        "  running = True\n",
        "\n",
        "  while running:\n",
        "    for event in pgame.event.get():\n",
        "      if event.type == pgame.QUIT:\n",
        "        running = False\n",
        "\n",
        "    stage.fill((255, 255, 255))\n",
        "\n",
        "    pgame.draw.rect(stage, (150,150, 150), pgame.Rect(150,100,100,150))\n",
        "    pgame.display.flip()\n",
        "\n",
        "  pgame.quit()"
      ],
      "metadata": {
        "id": "W0Bqdpzoxt-Q"
      },
      "execution_count": null,
      "outputs": []
    },
    {
      "cell_type": "code",
      "source": [
        "board()"
      ],
      "metadata": {
        "id": "SZHLYiTQxwgV"
      },
      "execution_count": null,
      "outputs": []
    }
  ]
}